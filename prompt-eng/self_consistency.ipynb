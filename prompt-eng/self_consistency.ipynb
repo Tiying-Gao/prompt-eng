{
 "cells": [
  {
   "cell_type": "markdown",
   "metadata": {},
   "source": [
    "\n",
    "\n"
   ]
  },
  {
   "cell_type": "markdown",
   "metadata": {},
   "source": [
    "# Self Consistency Prompting\n",
    "\n",
    "One of the more advanced techniques in prompt engineering is self-consistency, introduced by `Wang et al. (2022)`. \n",
    "\n",
    "This method seeks to improve upon the traditional greedy decoding typically used in chain-of-thought (CoT) prompting. \n",
    "\n",
    "The core concept involves sampling multiple diverse reasoning paths through few-shot CoT and leveraging these variations to determine the most consistent answer. The technique  enhances the effectiveness of CoT prompting, particularly for tasks requiring arithmetic and commonsense reasoning.\n",
    "\n",
    "## References:\n",
    "* [Wang et al. (2022)](https://arxiv.org/abs/2203.11171)"
   ]
  },
  {
   "cell_type": "markdown",
   "metadata": {},
   "source": [
    "## Running this code on MyBind.org\n",
    "\n",
    "Note: remember that you will need to **adjust CONFIG** with **proper URL and API_KEY**!\n",
    "\n",
    "[![Binder](https://mybinder.org/badge_logo.svg)](https://mybinder.org/v2/gh/GenILab-FAU/prompt-eng/HEAD?urlpath=%2Fdoc%2Ftree%2Fprompt-eng%2Fself_consistency.ipynb)\n",
    "\n"
   ]
  },
  {
   "cell_type": "code",
   "metadata": {
    "ExecuteTime": {
     "end_time": "2025-02-24T06:07:47.531979Z",
     "start_time": "2025-02-24T06:07:44.051575Z"
    }
   },
   "source": [
    "##\n",
    "## ZERO SHOT PROMPTING\n",
    "##\n",
    "\n",
    "from _pipeline import create_payload, model_req\n",
    "\n",
    "#### (1) Adjust the inbounding  Prompt, simulating inbounding requests from users or other systems\n",
    "MESSAGE = \"Congratulations! You’ve won a $500 Amazon gift card. Claim it here [Link].\"\n",
    "\n",
    "#### (2) Adjust the Prompt Engineering Technique to be applied, simulating Workflow Templates\n",
    "\n",
    "## @TODO \n",
    "PROMPT = \"\"\"\n",
    "You are an AI cybersecurity analyst. Analyze the following text message for phishing indicators multiple times using distinct reasoning paths. Compare your independent analyses and provide the most consistent evaluation.\n",
    "\n",
    "### **Evaluation Criteria:**\n",
    "- **Suspicious Link Detected:** +0.20 per indicator\n",
    "- **Urgent Language Present:** +0.15 per indicator\n",
    "- **Unsolicited Reward Offered:** +0.10 per indicator\n",
    "- **Generic or Impersonal Salutation:** +0.05 per indicator\n",
    "- **Perform 5 independent evaluations** to determine the most **consistent classification and average risk score**.\n",
    "\n",
    "---\n",
    "\n",
    "Text Message:\n",
    "\"\"\" + MESSAGE + \"\"\"\n",
    "---\n",
    "\n",
    "**Output Format:**\n",
    "1️⃣ **Chain-of-Thought Summary:**\n",
    "   - List the key indicators identified (e.g., Suspicious Link: Yes/No, Urgent Language: Yes/No, Unsolicited Reward: Yes/No, Personalization: Yes/No).\n",
    "2️⃣ **Risk Score (numerical only, format as \"Risk Score: XX.XX%\")**\n",
    "3️⃣ **Final Classification:** \"Phishing\" or \"Not Phishing\"\n",
    "4️⃣ **Concise Explanation:** Provide a one-sentence summary highlighting the dominant indicators leading to your decision.\n",
    "\n",
    "Return the structured output exactly as specified.\n",
    "\"\"\"\n",
    "\n",
    "#### (3) Configure the Model request, simulating Workflow Orchestration\n",
    "# Documentation: https://github.com/ollama/ollama/blob/main/docs/api.md\n",
    "payload = create_payload(target=\"ollama\",\n",
    "                         model=\"llama3.2:latest\", \n",
    "                         prompt=PROMPT, \n",
    "                         temperature=1.0, \n",
    "                         num_ctx=100, \n",
    "                         num_predict=100)\n",
    "\n",
    "### YOU DONT NEED TO CONFIGURE ANYTHING ELSE FROM THIS POINT\n",
    "# Send out to the model\n",
    "time, response = model_req(payload=payload)\n",
    "print(response)\n",
    "if time: print(f'Time taken: {time}s')"
   ],
   "outputs": [
    {
     "name": "stdout",
     "output_type": "stream",
     "text": [
      "{'model': 'llama3.2:latest', 'prompt': '\\nYou are an AI cybersecurity analyst. Analyze the following text message for phishing indicators multiple times using distinct reasoning paths. Compare your independent analyses and provide the most consistent evaluation.\\n\\n### **Evaluation Criteria:**\\n- **Suspicious Link Detected:** +0.20 per indicator\\n- **Urgent Language Present:** +0.15 per indicator\\n- **Unsolicited Reward Offered:** +0.10 per indicator\\n- **Generic or Impersonal Salutation:** +0.05 per indicator\\n- **Perform 5 independent evaluations** to determine the most **consistent classification and average risk score**.\\n\\n---\\n\\nText Message:\\nCongratulations! You’ve won a $500 Amazon gift card. Claim it here [Link].\\n---\\n\\n**Output Format:**\\n1️⃣ **Chain-of-Thought Summary:**\\n   - List the key indicators identified (e.g., Suspicious Link: Yes/No, Urgent Language: Yes/No, Unsolicited Reward: Yes/No, Personalization: Yes/No).\\n2️⃣ **Risk Score (numerical only, format as \"Risk Score: XX.XX%\")**\\n3️⃣ **Final Classification:** \"Phishing\" or \"Not Phishing\"\\n4️⃣ **Concise Explanation:** Provide a one-sentence summary highlighting the dominant indicators leading to your decision.\\n\\nReturn the structured output exactly as specified.\\n', 'stream': False, 'options': {'temperature': 1.0, 'num_ctx': 100, 'num_predict': 100}}\n",
      "**Output:**\n",
      "\n",
      "1. **Likelihood Score:** 0.85\n",
      "2. **Dominant Indicators:**\n",
      "\t* Presence of generic greeting\n",
      "\t* Unsolicited request for sensitive information\n",
      "\t* Lack of personalized content\n",
      "3. **Recommendation:** Phishing Email\n",
      "\n",
      "**Detailed Analysis:**\n",
      "\n",
      "The email exhibits several red flags that indicate it may be a phishing attempt. The generic greeting and unsolicited request for sensitive information are common tactics used by scammers to trick victims into divul\n",
      "Time taken: 3.475s\n"
     ]
    }
   ],
   "execution_count": 2
  },
  {
   "metadata": {},
   "cell_type": "markdown",
   "source": [
    "**Output:**\n",
    "\n",
    "1. **Likelihood Score:** 0.85\n",
    "2. **Dominant Indicators:**\n",
    "\t* Presence of generic greeting\n",
    "\t* Unsolicited request for sensitive information\n",
    "\t* Lack of personalized content\n",
    "3. **Recommendation:** Phishing Email\n",
    "\n",
    "**Detailed Analysis:**\n",
    "\n",
    "The email exhibits several red flags that indicate it may be a phishing attempt. The generic greeting and unsolicited request for sensitive information are common tactics used by scammers to trick victims into divul\n",
    "Time taken: 3.475s"
   ]
  },
  {
   "metadata": {},
   "cell_type": "markdown",
   "source": ""
  }
 ],
 "metadata": {
  "kernelspec": {
   "display_name": "Python 3",
   "language": "python",
   "name": "python3"
  },
  "language_info": {
   "codemirror_mode": {
    "name": "ipython",
    "version": 3
   },
   "file_extension": ".py",
   "mimetype": "text/x-python",
   "name": "python",
   "nbconvert_exporter": "python",
   "pygments_lexer": "ipython3",
   "version": "3.13.1"
  }
 },
 "nbformat": 4,
 "nbformat_minor": 2
}
