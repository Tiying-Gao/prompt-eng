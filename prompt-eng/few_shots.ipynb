{
 "cells": [
  {
   "cell_type": "markdown",
   "metadata": {},
   "source": [
    "\n",
    "\n"
   ]
  },
  {
   "cell_type": "markdown",
   "metadata": {},
   "source": [
    "# Few-Shots Prompting\n",
    "\n",
    "Few-shot prompting can be used as a technique to enable in-context learning where we provide demonstrations in the prompt to steer the model to better performance. The demonstrations serve as conditioning for subsequent examples where we would like the model to generate a response.\n",
    "\n",
    "## References:\n",
    "* [Touvron et al. 2023](https://arxiv.org/pdf/2302.13971.pdf): present few shot properties  when models were scaled to a sufficient size\n",
    "* [Kaplan et al., 2020](https://arxiv.org/abs/2001.08361)\n",
    "* [Brown et al. 2020](https://arxiv.org/abs/2005.14165)\n"
   ]
  },
  {
   "cell_type": "markdown",
   "metadata": {},
   "source": [
    "## Running this code on MyBind.org\n",
    "\n",
    "Note: remember that you will need to **adjust CONFIG** with **proper URL and API_KEY**!\n",
    "\n",
    "[![Binder](https://mybinder.org/badge_logo.svg)](https://mybinder.org/v2/gh/GenILab-FAU/prompt-eng/HEAD?urlpath=%2Fdoc%2Ftree%2Fprompt-eng%2Ffew_shots.ipynb)\n",
    "\n"
   ]
  },
  {
   "cell_type": "code",
   "metadata": {
    "ExecuteTime": {
     "end_time": "2025-02-24T05:37:25.949121Z",
     "start_time": "2025-02-24T05:37:21.816015Z"
    }
   },
   "source": [
    "##\n",
    "## FEW SHOTS PROMPTING\n",
    "##\n",
    "\n",
    "from _pipeline import create_payload, model_req\n",
    "\n",
    "phishing_message = \"\\\"Congratulations! You’ve won a $500 Amazon gift card. Claim it here [Link].\\\"\"\n",
    "\n",
    "#### (1) Adjust the inbounding  Prompt, simulating inbounding requests from users or other systems\n",
    "\n",
    "MESSAGE = \"Target Message for Analysis:\" + phishing_message +\"\"\"\n",
    "Instructions:\n",
    "Classification: Determine whether the target message is \"Phishing\" or \"Not Phishing.\"\n",
    "Explanation: Provide a concise one-sentence explanation that highlights key indicators (e.g., unsolicited reward, urgent language, suspicious link) leading to your decision.\"\n",
    "\"\"\"\n",
    "\n",
    "#### (2) Adjust the Prompt Engineering Technique to be applied, simulating Workflow Templates\n",
    "FEW_SHOT = \"\"\"\n",
    "You are a cybersecurity expert tasked with identifying phishing messages. Below are a few demonstration examples that illustrate the expected label distribution and input text format. Use these examples as guidance to analyze the target message.\n",
    "\n",
    "Example 1:\n",
    "Text Message: \"Alert: Your account has been compromised. Please click [Link] immediately to secure your account.\"\n",
    "Classification: Phishing\n",
    "Explanation: The urgent tone and suspicious link strongly indicate a phishing attempt.\n",
    "\n",
    "Example 2:\n",
    "Text Message: \"Your package has been delivered. Please check your mailbox for details.\"\n",
    "Classification: Not Phishing\n",
    "Explanation: The message provides clear, expected delivery information without any alarming language or links.\n",
    "\n",
    "\"\"\"\n",
    "PROMPT = FEW_SHOT + '\\n' + MESSAGE \n",
    "\n",
    "#### (3) Configure the Model request, simulating Workflow Orchestration\n",
    "# Documentation: https://github.com/ollama/ollama/blob/main/docs/api.md\n",
    "payload = create_payload(target=\"ollama\",\n",
    "                         model=\"llama3.2:latest\", \n",
    "                         prompt=PROMPT, \n",
    "                         temperature=1.0, \n",
    "                         num_ctx=100, \n",
    "                         num_predict=100)\n",
    "\n",
    "### YOU DONT NEED TO CONFIGURE ANYTHING ELSE FROM THIS POINT\n",
    "# Send out to the model\n",
    "time, response = model_req(payload=payload)\n",
    "print(response)\n",
    "if time: print(f'Time taken: {time}s')"
   ],
   "outputs": [
    {
     "name": "stdout",
     "output_type": "stream",
     "text": [
      "{'model': 'llama3.2:latest', 'prompt': '\\nYou are a cybersecurity expert tasked with identifying phishing messages. Below are a few demonstration examples that illustrate the expected label distribution and input text format. Use these examples as guidance to analyze the target message.\\n\\nExample 1:\\nText Message: \"Alert: Your account has been compromised. Please click [Link] immediately to secure your account.\"\\nClassification: Phishing\\nExplanation: The urgent tone and suspicious link strongly indicate a phishing attempt.\\n\\nExample 2:\\nText Message: \"Your package has been delivered. Please check your mailbox for details.\"\\nClassification: Not Phishing\\nExplanation: The message provides clear, expected delivery information without any alarming language or links.\\n\\n\\nTarget Message for Analysis:\"Congratulations! You’ve won a $500 Amazon gift card. Claim it here [Link].\"\\nInstructions:\\nClassification: Determine whether the target message is \"Phishing\" or \"Not Phishing.\"\\nExplanation: Provide a concise one-sentence explanation that highlights key indicators (e.g., unsolicited reward, urgent language, suspicious link) leading to your decision.\"\\n', 'stream': False, 'options': {'temperature': 1.0, 'num_ctx': 100, 'num_predict': 100}}\n",
      "Classification: Not Phishing\n",
      "\n",
      "Explanation: This email is likely a genuine notification of a win in a contest or sweepstakes, as it offers an unsolicited reward and provides details without the typical warning signs associated with phishing attempts.\n",
      "Time taken: 3.947s\n"
     ]
    }
   ],
   "execution_count": 1
  },
  {
   "cell_type": "markdown",
   "metadata": {},
   "source": [
    "## How to improve it?\n",
    "\n",
    "Following the findings from [Min et al. (2022)](https://arxiv.org/abs/2202.12837), here are a few more tips about demonstrations/exemplars when doing few-shot:\n",
    "\n",
    "* \"the label space and the distribution of the input text specified by the demonstrations are both important (regardless of whether the labels are correct for individual inputs)\"\n",
    "* the format you use also plays a key role in performance, even if you just use random labels, this is much better than no labels at all.\n",
    "* additional results show that selecting random labels from a true distribution of labels (instead of a uniform distribution) also helps."
   ]
  }
 ],
 "metadata": {
  "kernelspec": {
   "display_name": "Python 3",
   "language": "python",
   "name": "python3"
  },
  "language_info": {
   "codemirror_mode": {
    "name": "ipython",
    "version": 3
   },
   "file_extension": ".py",
   "mimetype": "text/x-python",
   "name": "python",
   "nbconvert_exporter": "python",
   "pygments_lexer": "ipython3",
   "version": "3.13.1"
  }
 },
 "nbformat": 4,
 "nbformat_minor": 2
}
