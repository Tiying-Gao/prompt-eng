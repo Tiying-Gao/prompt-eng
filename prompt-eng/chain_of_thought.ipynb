{
 "cells": [
  {
   "cell_type": "markdown",
   "metadata": {},
   "source": [
    "\n",
    "\n"
   ]
  },
  {
   "cell_type": "markdown",
   "metadata": {},
   "source": [
    "# Chain-of-Thought Prompting\n",
    "\n",
    "Chain-of-Thought (CoT) prompting enhances complex reasoning by encouraging the model to break down problems into intermediate reasoning steps. When combined with few-shot prompting, it can significantly improve performance on tasks that require multi-step reasoning before arriving at a response.\n",
    "\n",
    "## Automatic Chain-of-Thought (Auto-CoT)\n",
    "\n",
    "Traditionally, using CoT prompting with demonstrations involves manually crafting diverse and effective examples. This manual effort is time-consuming and can lead to less-than-optimal results. To address this, Zhang et al. (2022) introduced Auto-CoT, an automated approach that minimizes manual involvement. Their method uses the prompt “Let’s think step by step” to generate reasoning chains automatically for demonstrations. However, this automatic process is not immune to errors. To reduce the impact of such mistakes, the approach emphasizes the importance of diverse demonstrations.\n",
    "\n",
    "Auto-CoT operates in two main stages:\n",
    "\n",
    "1. **Question Clustering:** Questions from the dataset are grouped into clusters based on similarity or relevance.\n",
    "2. **Demonstration Sampling:** A representative question from each cluster is selected, and its reasoning chain is generated using Zero-Shot-CoT guided by simple heuristics.\n",
    "\n",
    "\n",
    "## References:\n",
    "\n",
    "* (Wei et al. (2022),)[https://arxiv.org/abs/2201.11903]\n",
    "* (OpenAI Documentation for Prompt Engineering)[https://platform.openai.com/docs/guides/prompt-engineering]"
   ]
  },
  {
   "cell_type": "markdown",
   "metadata": {},
   "source": [
    "## Running this code on MyBind.org\n",
    "\n",
    "Note: remember that you will need to **adjust CONFIG** with **proper URL and API_KEY**!\n",
    "\n",
    "[![Binder](https://mybinder.org/badge_logo.svg)](https://mybinder.org/v2/gh/GenILab-FAU/prompt-eng/HEAD?urlpath=%2Fdoc%2Ftree%2Fprompt-eng%2Fchain_of_thought.ipynb)\n"
   ]
  },
  {
   "cell_type": "code",
   "metadata": {
    "ExecuteTime": {
     "end_time": "2025-02-24T05:44:33.683025Z",
     "start_time": "2025-02-24T05:44:30.102559Z"
    }
   },
   "source": [
    "##\n",
    "## CHAIN-OF-THOUGHT  PROMPTING\n",
    "##\n",
    "\n",
    "from _pipeline import create_payload, model_req\n",
    "\n",
    "\n",
    "#### (1) Adjust the inbounding  Prompt, simulating inbounding requests from users or other systems\n",
    "MESSAGE = \"Congratulations! You’ve won a $500 Amazon gift card. Claim it here [Link].\"\n",
    "\n",
    "#### (2) Adjust the Prompt Engineering Technique to be applied, simulating Workflow Templates\n",
    "CHAIN_OF_THOUGHT = \\\n",
    "f\"\"\"\n",
    "Your task is to analyze whether a given text message is a phishing attempt. You must provide a detailed chain-of-thought explanation that breaks down your reasoning into intermediate steps before presenting your final answer.\n",
    "\n",
    "Below are two examples that illustrate the expected format:\n",
    "\n",
    "Example 1:\n",
    "Text Message:\n",
    "\"Alert: Your account has been compromised. Please click [Link] immediately to secure your account.\"\n",
    "\n",
    "Chain-of-Thought:\n",
    "\n",
    "Observation: The message uses an urgent tone and alarming language (\"compromised\", \"immediately\").\n",
    "Analysis: Urgency and pressure to act quickly are common indicators of phishing.\n",
    "Inference: The suspicious link coupled with urgent language suggests a high likelihood of phishing.\n",
    "Final Answer:\n",
    "Phishing\n",
    "\n",
    "Explanation:\n",
    "The urgent call-to-action and alarming wording signal a likely phishing attempt.\n",
    "\n",
    "Example 2:\n",
    "Text Message:\n",
    "\"Your package has been delivered. Please check your mailbox for details.\"\n",
    "\n",
    "Chain-of-Thought:\n",
    "\n",
    "Observation: The message presents a neutral tone with factual delivery information.\n",
    "Analysis: There is no urgency or suspicious link; the content is consistent with standard notifications.\n",
    "Inference: The message aligns with typical package delivery alerts, with no red flags.\n",
    "Final Answer:\n",
    "Not Phishing\n",
    "\n",
    "Explanation:\n",
    "The factual and non-alarming content indicates that this is a legitimate message.\n",
    "\n",
    "Now, analyze the following target message:\n",
    "\n",
    "Text Message:\n",
    "\"{MESSAGE}\"\n",
    "\n",
    "Instructions:\n",
    "\n",
    "Chain-of-Thought: List your intermediate reasoning steps, identifying key observations (e.g., presence of unsolicited rewards, urgent language, and suspicious links).\n",
    "Final Answer: Clearly state whether the message is \"Phishing\" or \"Not Phishing\".\n",
    "Explanation: Provide a concise one-sentence summary of the main indicators that led to your decision.\n",
    "\"\"\"\n",
    "\n",
    "PROMPT = CHAIN_OF_THOUGHT \n",
    "\n",
    "#### (3) Configure the Model request, simulating Workflow Orchestration\n",
    "# Documentation: https://github.com/ollama/ollama/blob/main/docs/api.md\n",
    "payload = create_payload(target=\"ollama\",\n",
    "                         model=\"llama3.2:latest\", \n",
    "                         prompt=PROMPT, \n",
    "                         temperature=1.0, \n",
    "                         num_ctx=100, \n",
    "                         num_predict=100)\n",
    "\n",
    "### YOU DONT NEED TO CONFIGURE ANYTHING ELSE FROM THIS POINT\n",
    "# Send out to the model\n",
    "time, response = model_req(payload=payload)\n",
    "print(response)\n",
    "if time: print(f'Time taken: {time}s')"
   ],
   "outputs": [
    {
     "name": "stdout",
     "output_type": "stream",
     "text": [
      "{'model': 'llama3.2:latest', 'prompt': '\\nYour task is to analyze whether a given text message is a phishing attempt. You must provide a detailed chain-of-thought explanation that breaks down your reasoning into intermediate steps before presenting your final answer.\\n\\nBelow are two examples that illustrate the expected format:\\n\\nExample 1:\\nText Message:\\n\"Alert: Your account has been compromised. Please click [Link] immediately to secure your account.\"\\n\\nChain-of-Thought:\\n\\nObservation: The message uses an urgent tone and alarming language (\"compromised\", \"immediately\").\\nAnalysis: Urgency and pressure to act quickly are common indicators of phishing.\\nInference: The suspicious link coupled with urgent language suggests a high likelihood of phishing.\\nFinal Answer:\\nPhishing\\n\\nExplanation:\\nThe urgent call-to-action and alarming wording signal a likely phishing attempt.\\n\\nExample 2:\\nText Message:\\n\"Your package has been delivered. Please check your mailbox for details.\"\\n\\nChain-of-Thought:\\n\\nObservation: The message presents a neutral tone with factual delivery information.\\nAnalysis: There is no urgency or suspicious link; the content is consistent with standard notifications.\\nInference: The message aligns with typical package delivery alerts, with no red flags.\\nFinal Answer:\\nNot Phishing\\n\\nExplanation:\\nThe factual and non-alarming content indicates that this is a legitimate message.\\n\\nNow, analyze the following target message:\\n\\nText Message:\\n\"Congratulations! You’ve won a $500 Amazon gift card. Claim it here [Link].\"\\n\\nInstructions:\\n\\nChain-of-Thought: List your intermediate reasoning steps, identifying key observations (e.g., presence of unsolicited rewards, urgent language, and suspicious links).\\nFinal Answer: Clearly state whether the message is \"Phishing\" or \"Not Phishing\".\\nExplanation: Provide a concise one-sentence summary of the main indicators that led to your decision.\\n', 'stream': False, 'options': {'temperature': 1.0, 'num_ctx': 100, 'num_predict': 100}}\n",
      "Here's my analysis:\n",
      "\n",
      "**Red flags:**\n",
      "\n",
      "* The message asks me to take action (\"state whether the message is 'Phishing' or 'Not Phishing'\")\n",
      "* The link provided is suspicious (it looks like a generic, unexplained link)\n",
      "* There's no context or explanation for why I should be making this decision\n",
      "\n",
      "**Decision:**\n",
      "Given these red flags, I'm going to err on the side of caution and assume that this message might be spam or malicious. Therefore, I\n",
      "Time taken: 3.399s\n"
     ]
    }
   ],
   "execution_count": 1
  },
  {
   "metadata": {},
   "cell_type": "markdown",
   "source": [
    "Here's my analysis:\n",
    "\n",
    "**Red flags:**\n",
    "\n",
    "* The message asks me to take action (\"state whether the message is 'Phishing' or 'Not Phishing'\")\n",
    "* The link provided is suspicious (it looks like a generic, unexplained link)\n",
    "* There's no context or explanation for why I should be making this decision\n",
    "\n",
    "**Decision:**\n",
    "Given these red flags, I'm going to err on the side of caution and assume that this message might be spam or malicious. Therefore, I\n",
    "Time taken: 3.399s"
   ]
  }
 ],
 "metadata": {
  "kernelspec": {
   "display_name": "Python 3",
   "language": "python",
   "name": "python3"
  },
  "language_info": {
   "codemirror_mode": {
    "name": "ipython",
    "version": 3
   },
   "file_extension": ".py",
   "mimetype": "text/x-python",
   "name": "python",
   "nbconvert_exporter": "python",
   "pygments_lexer": "ipython3",
   "version": "3.13.1"
  }
 },
 "nbformat": 4,
 "nbformat_minor": 2
}
