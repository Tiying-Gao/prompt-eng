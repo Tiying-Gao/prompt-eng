{
 "cells": [
  {
   "cell_type": "markdown",
   "metadata": {},
   "source": [
    "\n",
    "\n"
   ]
  },
  {
   "cell_type": "markdown",
   "metadata": {},
   "source": [
    "# Meta Prompting\n",
    "\n",
    "Meta prompting is an advanced technique in prompt engineering that emphasizes the structural and syntactical organization of tasks and problems rather than focusing on their specific content. The objective is to create a more abstract, form-driven way of engaging with large language models (LLMs), highlighting patterns and structure over traditional content-focused methods.\n",
    "\n",
    "As outlined by [Zhang et al. (2024)](https://arxiv.org/abs/2311.11482), the defining features of meta prompting include:\n",
    "\n",
    "* Structure-Oriented: Prioritizes the organization and pattern of problems and solutions instead of specific content.\n",
    "* Syntax-Guided: Leverages syntax as a template to shape the expected responses or solutions.\n",
    "* Abstract Frameworks: Uses abstract examples as blueprints, demonstrating the structure of tasks without relying on concrete details.\n",
    "* Domain Versatility: Can be applied across multiple fields, offering structured solutions to diverse problem types.\n",
    "* Categorical Approach: Draws on type theory to organize and categorize components logically, enhancing prompt coherence and precision."
   ]
  },
  {
   "cell_type": "markdown",
   "metadata": {},
   "source": [
    "## Running this code on MyBind.org\n",
    "\n",
    "Note: remember that you will need to **adjust CONFIG** with **proper URL and API_KEY**!\n",
    "\n",
    "[![Binder](https://mybinder.org/badge_logo.svg)](https://mybinder.org/v2/gh/GenILab-FAU/prompt-eng/HEAD?urlpath=%2Fdoc%2Ftree%2Fprompt-eng%2Fmeta.ipynb)\n",
    "\n"
   ]
  },
  {
   "cell_type": "code",
   "metadata": {
    "ExecuteTime": {
     "end_time": "2025-02-24T06:00:37.855659Z",
     "start_time": "2025-02-24T06:00:34.460258Z"
    }
   },
   "source": [
    "##\n",
    "## META PROMPTING\n",
    "##\n",
    "\n",
    "from _pipeline import create_payload, model_req\n",
    "\n",
    "#### (1) Adjust the inbounding  Prompt, simulating inbounding requests from users or other systems\n",
    "MESSAGE = \"\"\"\n",
    "\"Congratulations! You’ve won a $500 Amazon gift card. Claim it here [Link].\"\n",
    "\n",
    "\"\"\"\n",
    "\n",
    "#### (2) Adjust the Prompt Engineering Technique to be applied, simulating Workflow Templates\n",
    "\n",
    "# @TODO TO BE COMPLETED\n",
    "PROMPT = \"\"\"\n",
    "\"Examine the following text message using a structured chain-of-thought approach:\n",
    "\"You’ve been overcharged for your 2021 taxes. Get your IRS tax refund here: [Link]\",Identify and list key syntactic and semantic cues (e.g., unsolicited rewards, urgent language, hyperlinks). Evaluate these cues by comparing them with known phishing patterns. Synthesize your reasoning to classify the message as either 'Phishing' or 'Not Phishing' and provide a concise justification. Output your response in a clearly segmented format corresponding to these phases.\"\n",
    "Now, generate a similar abstract, form-driven prompt for the input below:\n",
    "\n",
    "Text Message:\n",
    "\"\"\" + MESSAGE +\"After generating the prompt, **use it to analyze the message and return a structured evaluation. Keep it concise**.\"\n",
    "\n",
    "#### (3) Configure the Model request, simulating Workflow Orchestration\n",
    "# Documentation: https://github.com/ollama/ollama/blob/main/docs/api.md\n",
    "payload = create_payload(target=\"ollama\",\n",
    "                         model=\"llama3.2:latest\", \n",
    "                         prompt=PROMPT, \n",
    "                         temperature=1.0, \n",
    "                         num_ctx=100, \n",
    "                         num_predict=100)\n",
    "\n",
    "### YOU DONT NEED TO CONFIGURE ANYTHING ELSE FROM THIS POINT\n",
    "# Send out to the model\n",
    "time, response = model_req(payload=payload)\n",
    "print(response)\n",
    "if time: print(f'Time taken: {time}s')"
   ],
   "outputs": [
    {
     "name": "stdout",
     "output_type": "stream",
     "text": [
      "{'model': 'llama3.2:latest', 'prompt': '\\n\"Examine the following text message using a structured chain-of-thought approach:\\n\"You’ve been overcharged for your 2021 taxes. Get your IRS tax refund here: [Link]\",Identify and list key syntactic and semantic cues (e.g., unsolicited rewards, urgent language, hyperlinks). Evaluate these cues by comparing them with known phishing patterns. Synthesize your reasoning to classify the message as either \\'Phishing\\' or \\'Not Phishing\\' and provide a concise justification. Output your response in a clearly segmented format corresponding to these phases.\"\\nNow, generate a similar abstract, form-driven prompt for the input below:\\n\\nText Message:\\n\\n\"Congratulations! You’ve won a $500 Amazon gift card. Claim it here [Link].\"\\n\\nAfter generating the prompt, **use it to analyze the message and return a structured evaluation. Keep it concise**.', 'stream': False, 'options': {'temperature': 1.0, 'num_ctx': 100, 'num_predict': 100}}\n",
      "**Evaluating Phishing Messages: \"Congratulations! You've won a $500 Amazon gift card.\"**\n",
      "\n",
      "**Phishing Red Flags:**\n",
      "\n",
      "1. **Urgency**: The message creates a sense of urgency, which is a common tactic used by scammers to trick victims into acting quickly without thinking.\n",
      "2. **Lack of Personalization**: The message does not address the recipient by name, despite being an Amazon-related notification.\n",
      "3. **Unusual Request**: The message asks the recipient\n",
      "Time taken: 3.389s\n"
     ]
    }
   ],
   "execution_count": 15
  },
  {
   "metadata": {},
   "cell_type": "markdown",
   "source": [
    "**Evaluating Phishing Messages: \"Congratulations! You've won a $500 Amazon gift card.\"**\n",
    "\n",
    "**Phishing Red Flags:**\n",
    "\n",
    "1. **Urgency**: The message creates a sense of urgency, which is a common tactic used by scammers to trick victims into acting quickly without thinking.\n",
    "2. **Lack of Personalization**: The message does not address the recipient by name, despite being an Amazon-related notification.\n",
    "3. **Unusual Request**: The message asks the recipient\n",
    "Time taken: 3.389s"
   ]
  }
 ],
 "metadata": {
  "kernelspec": {
   "display_name": "Python 3",
   "language": "python",
   "name": "python3"
  },
  "language_info": {
   "codemirror_mode": {
    "name": "ipython",
    "version": 3
   },
   "file_extension": ".py",
   "mimetype": "text/x-python",
   "name": "python",
   "nbconvert_exporter": "python",
   "pygments_lexer": "ipython3",
   "version": "3.13.1"
  }
 },
 "nbformat": 4,
 "nbformat_minor": 2
}
